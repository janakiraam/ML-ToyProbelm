{
  "nbformat": 4,
  "nbformat_minor": 0,
  "metadata": {
    "colab": {
      "name": "Untitled0.ipynb",
      "provenance": [],
      "collapsed_sections": [
        "C4rTFjBUawle",
        "gGxrMtse1d7p"
      ]
    },
    "kernelspec": {
      "name": "python3",
      "display_name": "Python 3"
    }
  },
  "cells": [
    {
      "cell_type": "markdown",
      "metadata": {
        "id": "2w88GZuVYqJv"
      },
      "source": [
        "# Toy problem in google Colab"
      ]
    },
    {
      "cell_type": "markdown",
      "metadata": {
        "id": "bPDVabv-Yyz2"
      },
      "source": [
        "### Importing packages"
      ]
    },
    {
      "cell_type": "code",
      "metadata": {
        "id": "E0R4Lg_4mzBQ"
      },
      "source": [
        "import pandas as pd\r\n",
        "import numpy as np\r\n",
        "import matplotlib.pyplot as plt\r\n",
        "%matplotlib inline"
      ],
      "execution_count": 1,
      "outputs": []
    },
    {
      "cell_type": "code",
      "metadata": {
        "colab": {
          "base_uri": "https://localhost:8080/",
          "height": 204
        },
        "id": "A7b_Pd-KZeBl",
        "outputId": "92b99223-9494-40d6-9411-23101895a468"
      },
      "source": [
        "url='http://bit.ly/w-data'\r\n",
        "s_data=pd.read_csv(url)\r\n",
        "s_data.head()"
      ],
      "execution_count": 2,
      "outputs": [
        {
          "output_type": "execute_result",
          "data": {
            "text/html": [
              "<div>\n",
              "<style scoped>\n",
              "    .dataframe tbody tr th:only-of-type {\n",
              "        vertical-align: middle;\n",
              "    }\n",
              "\n",
              "    .dataframe tbody tr th {\n",
              "        vertical-align: top;\n",
              "    }\n",
              "\n",
              "    .dataframe thead th {\n",
              "        text-align: right;\n",
              "    }\n",
              "</style>\n",
              "<table border=\"1\" class=\"dataframe\">\n",
              "  <thead>\n",
              "    <tr style=\"text-align: right;\">\n",
              "      <th></th>\n",
              "      <th>Hours</th>\n",
              "      <th>Scores</th>\n",
              "    </tr>\n",
              "  </thead>\n",
              "  <tbody>\n",
              "    <tr>\n",
              "      <th>0</th>\n",
              "      <td>2.5</td>\n",
              "      <td>21</td>\n",
              "    </tr>\n",
              "    <tr>\n",
              "      <th>1</th>\n",
              "      <td>5.1</td>\n",
              "      <td>47</td>\n",
              "    </tr>\n",
              "    <tr>\n",
              "      <th>2</th>\n",
              "      <td>3.2</td>\n",
              "      <td>27</td>\n",
              "    </tr>\n",
              "    <tr>\n",
              "      <th>3</th>\n",
              "      <td>8.5</td>\n",
              "      <td>75</td>\n",
              "    </tr>\n",
              "    <tr>\n",
              "      <th>4</th>\n",
              "      <td>3.5</td>\n",
              "      <td>30</td>\n",
              "    </tr>\n",
              "  </tbody>\n",
              "</table>\n",
              "</div>"
            ],
            "text/plain": [
              "   Hours  Scores\n",
              "0    2.5      21\n",
              "1    5.1      47\n",
              "2    3.2      27\n",
              "3    8.5      75\n",
              "4    3.5      30"
            ]
          },
          "metadata": {
            "tags": []
          },
          "execution_count": 2
        }
      ]
    },
    {
      "cell_type": "markdown",
      "metadata": {
        "id": "C4rTFjBUawle"
      },
      "source": [
        "### Finding positive relation"
      ]
    },
    {
      "cell_type": "code",
      "metadata": {
        "colab": {
          "base_uri": "https://localhost:8080/",
          "height": 296
        },
        "id": "BOLculAFZvUG",
        "outputId": "8796fe0e-95d6-4ed0-8465-d083dd317d19"
      },
      "source": [
        "s_data.plot(x='Hours',y='Scores',style='*')\r\n",
        "plt.title('Hours VS Scores')\r\n",
        "plt.xlabel('Hours_study')\r\n",
        "plt.ylabel('Percentage_scored')\r\n",
        "plt.show()"
      ],
      "execution_count": 3,
      "outputs": [
        {
          "output_type": "display_data",
          "data": {
            "image/png": "[encoded data removed]",
            "text/plain": [
              "<Figure size 432x288 with 1 Axes>"
            ]
          },
          "metadata": {
            "tags": [],
            "needs_background": "light"
          }
        }
      ]
    },
    {
      "cell_type": "code",
      "metadata": {
        "id": "UcqPLjMwaqgO"
      },
      "source": [
        "X=s_data.iloc[:,:-1].values\r\n",
        "Y=s_data.iloc[:,1].values"
      ],
      "execution_count": 4,
      "outputs": []
    },
    {
      "cell_type": "code",
      "metadata": {
        "colab": {
          "base_uri": "https://localhost:8080/"
        },
        "id": "NnfwNkKIx31k",
        "outputId": "623df4c8-f55f-44f5-aad4-cdda29ee77d9"
      },
      "source": [
        "print(X)\r\n",
        "print(Y)"
      ],
      "execution_count": 5,
      "outputs": [
        {
          "output_type": "stream",
          "text": [
            "[[2.5]\n",
            " [5.1]\n",
            " [3.2]\n",
            " [8.5]\n",
            " [3.5]\n",
            " [1.5]\n",
            " [9.2]\n",
            " [5.5]\n",
            " [8.3]\n",
            " [2.7]\n",
            " [7.7]\n",
            " [5.9]\n",
            " [4.5]\n",
            " [3.3]\n",
            " [1.1]\n",
            " [8.9]\n",
            " [2.5]\n",
            " [1.9]\n",
            " [6.1]\n",
            " [7.4]\n",
            " [2.7]\n",
            " [4.8]\n",
            " [3.8]\n",
            " [6.9]\n",
            " [7.8]]\n",
            "[21 47 27 75 30 20 88 60 81 25 85 62 41 42 17 95 30 24 67 69 30 54 35 76\n",
            " 86]\n"
          ],
          "name": "stdout"
        }
      ]
    },
    {
      "cell_type": "markdown",
      "metadata": {
        "id": "gGxrMtse1d7p"
      },
      "source": [
        "### Train, Test SPLIT"
      ]
    },
    {
      "cell_type": "code",
      "metadata": {
        "id": "P2tzgqS7x8jM"
      },
      "source": [
        "from sklearn.model_selection import train_test_split\r\n",
        "X_train,X_test,Y_train,Y_test=train_test_split(X,Y,test_size=0.2,random_state=0)"
      ],
      "execution_count": 7,
      "outputs": []
    },
    {
      "cell_type": "markdown",
      "metadata": {
        "id": "F3L8QDP61ZMJ"
      },
      "source": [
        "### Training an algorithm"
      ]
    },
    {
      "cell_type": "code",
      "metadata": {
        "id": "n_4ktLun0cRk"
      },
      "source": [
        "from sklearn.linear_model import LinearRegression"
      ],
      "execution_count": 8,
      "outputs": []
    },
    {
      "cell_type": "code",
      "metadata": {
        "colab": {
          "base_uri": "https://localhost:8080/"
        },
        "id": "zBc5sxiI1xzI",
        "outputId": "5c46e8cf-6ca1-46a7-9078-31fd75a6554f"
      },
      "source": [
        "Regressor1=LinearRegression()\r\n",
        "Regressor1.fit(X,Y)"
      ],
      "execution_count": 9,
      "outputs": [
        {
          "output_type": "execute_result",
          "data": {
            "text/plain": [
              "LinearRegression(copy_X=True, fit_intercept=True, n_jobs=None, normalize=False)"
            ]
          },
          "metadata": {
            "tags": []
          },
          "execution_count": 9
        }
      ]
    },
    {
      "cell_type": "code",
      "metadata": {
        "id": "mdfdcX0l19cC"
      },
      "source": [
        "## Ploting the regression Line\r\n",
        "\r\n",
        "line= Regressor1.coef_*X+Regressor1.intercept_"
      ],
      "execution_count": 10,
      "outputs": []
    },
    {
      "cell_type": "code",
      "metadata": {
        "colab": {
          "base_uri": "https://localhost:8080/"
        },
        "id": "m1tPppTT2OsY",
        "outputId": "161a1bd4-ef5f-4b58-f688-8e1dad566730"
      },
      "source": [
        "print(line)\r\n"
      ],
      "execution_count": 11,
      "outputs": [
        {
          "output_type": "stream",
          "text": [
            "[[26.92318188]\n",
            " [52.3402707 ]\n",
            " [33.76624426]\n",
            " [85.57800223]\n",
            " [36.69898527]\n",
            " [17.14737849]\n",
            " [92.4210646 ]\n",
            " [56.25059205]\n",
            " [83.62284155]\n",
            " [28.87834256]\n",
            " [77.75735951]\n",
            " [60.16091341]\n",
            " [46.47478866]\n",
            " [34.74382459]\n",
            " [13.23705714]\n",
            " [89.48832358]\n",
            " [26.92318188]\n",
            " [21.05769985]\n",
            " [62.11607409]\n",
            " [74.8246185 ]\n",
            " [28.87834256]\n",
            " [49.40752968]\n",
            " [39.63172629]\n",
            " [69.9367168 ]\n",
            " [78.73493985]]\n"
          ],
          "name": "stdout"
        }
      ]
    },
    {
      "cell_type": "code",
      "metadata": {
        "colab": {
          "base_uri": "https://localhost:8080/"
        },
        "id": "J5ZJWYDI2TkB",
        "outputId": "708d28f2-9169-470a-d300-a63e938621f5"
      },
      "source": [
        "print(Regressor1.coef_)\r\n",
        "print(Regressor1.intercept_)"
      ],
      "execution_count": 13,
      "outputs": [
        {
          "output_type": "stream",
          "text": [
            "[9.77580339]\n",
            "2.48367340537321\n"
          ],
          "name": "stdout"
        }
      ]
    },
    {
      "cell_type": "markdown",
      "metadata": {
        "id": "pX2tWLy52m0R"
      },
      "source": [
        "### Ploting for testing"
      ]
    },
    {
      "cell_type": "code",
      "metadata": {
        "colab": {
          "base_uri": "https://localhost:8080/",
          "height": 265
        },
        "id": "paP6_X_b2hUi",
        "outputId": "905b964e-bfff-4624-d8f7-6ffad99bc9ab"
      },
      "source": [
        "plt.scatter(X,Y)\r\n",
        "plt.plot(X,line)\r\n",
        "plt.show()"
      ],
      "execution_count": 14,
      "outputs": [
        {
          "output_type": "display_data",
          "data": {
            "image/png": "[encoded data removed]",
            "text/plain": [
              "<Figure size 432x288 with 1 Axes>"
            ]
          },
          "metadata": {
            "tags": [],
            "needs_background": "light"
          }
        }
      ]
    },
    {
      "cell_type": "markdown",
      "metadata": {
        "id": "An78IFJh2_vI"
      },
      "source": [
        "## Prediction"
      ]
    },
    {
      "cell_type": "code",
      "metadata": {
        "colab": {
          "base_uri": "https://localhost:8080/"
        },
        "id": "CRLPxFv83BsX",
        "outputId": "821ac5d5-699b-4dab-856a-f8c833c99dba"
      },
      "source": [
        "print(X_test)\r\n",
        "y_pred = Regressor1.predict(X_test)"
      ],
      "execution_count": 15,
      "outputs": [
        {
          "output_type": "stream",
          "text": [
            "[[1.5]\n",
            " [3.2]\n",
            " [7.4]\n",
            " [2.5]\n",
            " [5.9]]\n"
          ],
          "name": "stdout"
        }
      ]
    },
    {
      "cell_type": "code",
      "metadata": {
        "colab": {
          "base_uri": "https://localhost:8080/",
          "height": 204
        },
        "id": "wS6hSma73NeI",
        "outputId": "8c826e3f-6f10-45f8-d932-c3992214fdf5"
      },
      "source": [
        "df = pd.DataFrame({'Actual':Y_test,'Predected':y_pred})\r\n",
        "df"
      ],
      "execution_count": 18,
      "outputs": [
        {
          "output_type": "execute_result",
          "data": {
            "text/html": [
              "<div>\n",
              "<style scoped>\n",
              "    .dataframe tbody tr th:only-of-type {\n",
              "        vertical-align: middle;\n",
              "    }\n",
              "\n",
              "    .dataframe tbody tr th {\n",
              "        vertical-align: top;\n",
              "    }\n",
              "\n",
              "    .dataframe thead th {\n",
              "        text-align: right;\n",
              "    }\n",
              "</style>\n",
              "<table border=\"1\" class=\"dataframe\">\n",
              "  <thead>\n",
              "    <tr style=\"text-align: right;\">\n",
              "      <th></th>\n",
              "      <th>Actual</th>\n",
              "      <th>Predected</th>\n",
              "    </tr>\n",
              "  </thead>\n",
              "  <tbody>\n",
              "    <tr>\n",
              "      <th>0</th>\n",
              "      <td>20</td>\n",
              "      <td>17.147378</td>\n",
              "    </tr>\n",
              "    <tr>\n",
              "      <th>1</th>\n",
              "      <td>27</td>\n",
              "      <td>33.766244</td>\n",
              "    </tr>\n",
              "    <tr>\n",
              "      <th>2</th>\n",
              "      <td>69</td>\n",
              "      <td>74.824618</td>\n",
              "    </tr>\n",
              "    <tr>\n",
              "      <th>3</th>\n",
              "      <td>30</td>\n",
              "      <td>26.923182</td>\n",
              "    </tr>\n",
              "    <tr>\n",
              "      <th>4</th>\n",
              "      <td>62</td>\n",
              "      <td>60.160913</td>\n",
              "    </tr>\n",
              "  </tbody>\n",
              "</table>\n",
              "</div>"
            ],
            "text/plain": [
              "   Actual  Predected\n",
              "0      20  17.147378\n",
              "1      27  33.766244\n",
              "2      69  74.824618\n",
              "3      30  26.923182\n",
              "4      62  60.160913"
            ]
          },
          "metadata": {
            "tags": []
          },
          "execution_count": 18
        }
      ]
    },
    {
      "cell_type": "code",
      "metadata": {
        "colab": {
          "base_uri": "https://localhost:8080/"
        },
        "id": "y1OYnABP3l5w",
        "outputId": "04989ed1-3233-4168-d327-7e87942ba25d"
      },
      "source": [
        "print(\"Training score\", Regressor1.score(X_train,Y_train))\r\n",
        "print(\"Testing score\", Regressor1.score(X_test,Y_test))\r\n"
      ],
      "execution_count": 19,
      "outputs": [
        {
          "output_type": "stream",
          "text": [
            "Training score 0.9512837351709387\n",
            "Testing score 0.9491748734859172\n"
          ],
          "name": "stdout"
        }
      ]
    },
    {
      "cell_type": "markdown",
      "metadata": {
        "id": "hVTZ7Kuj3-8g"
      },
      "source": [
        "### Ploting the bar char to depict the actual predicted value"
      ]
    },
    {
      "cell_type": "code",
      "metadata": {
        "colab": {
          "base_uri": "https://localhost:8080/",
          "height": 262
        },
        "id": "ssyZIi1N38NI",
        "outputId": "f2f2843e-bad7-4a7e-e071-59c588640baf"
      },
      "source": [
        " df.plot(kind='bar')\r\n",
        " plt.show()"
      ],
      "execution_count": 20,
      "outputs": [
        {
          "output_type": "display_data",
          "data": {
            "image/png": "[encoded data removed]",
            "text/plain": [
              "<Figure size 432x288 with 1 Axes>"
            ]
          },
          "metadata": {
            "tags": [],
            "needs_background": "light"
          }
        }
      ]
    },
    {
      "cell_type": "markdown",
      "metadata": {
        "id": "pVWFCOAN4ZpH"
      },
      "source": [
        "### Predicting for dynamic value"
      ]
    },
    {
      "cell_type": "code",
      "metadata": {
        "colab": {
          "base_uri": "https://localhost:8080/"
        },
        "id": "CQu2p20X4OSp",
        "outputId": "c011c793-1b77-4d05-ec82-253969e099d5"
      },
      "source": [
        "hours=9.75\r\n",
        "test=np.array([hours])\r\n",
        "test = test.reshape(-1,1)\r\n",
        "own_pred= Regressor1.predict(test)\r\n",
        "print(\"No of hours= {}\".format(hours))\r\n",
        "print(\"Score_predicte= {}\".format(own_pred[0]))"
      ],
      "execution_count": 23,
      "outputs": [
        {
          "output_type": "stream",
          "text": [
            "No of hours= 9.75\n",
            "Score_predicte= 97.79775646555102\n"
          ],
          "name": "stdout"
        }
      ]
    },
    {
      "cell_type": "markdown",
      "metadata": {
        "id": "49gP6npv5OQv"
      },
      "source": [
        "### Model_Evaluation"
      ]
    },
    {
      "cell_type": "code",
      "metadata": {
        "colab": {
          "base_uri": "https://localhost:8080/"
        },
        "id": "G_X3QLwQ5MBg",
        "outputId": "bf1eca68-e82e-4019-e193-a123711b0f70"
      },
      "source": [
        "from sklearn import metrics\r\n",
        "print('Mean Absolute Error : ',metrics.mean_absolute_error(Y_test,y_pred))\r\n",
        "print('Mean Square Error : ',metrics.mean_squared_error(Y_test,y_pred))\r\n",
        "print('Root Mean Square Error : ',np.sqrt(metrics.mean_squared_error(Y_test,y_pred)))\r\n",
        "print('Explained varaince score : ',metrics.explained_variance_score(Y_test,y_pred))"
      ],
      "execution_count": 25,
      "outputs": [
        {
          "output_type": "stream",
          "text": [
            "Mean Absolute Error :  4.071877793635605\n",
            "Mean Square Error :  20.138948129940175\n",
            "Root Mean Square Error :  4.487643939746131\n",
            "Explained varaince score :  0.9515224335188082\n"
          ],
          "name": "stdout"
        }
      ]
    }
  ]
}